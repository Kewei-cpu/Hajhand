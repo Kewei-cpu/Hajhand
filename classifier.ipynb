{
 "cells": [
  {
   "cell_type": "code",
   "outputs": [],
   "source": [
    "import numpy as np\n",
    "import torch\n",
    "from torch.utils.data import Dataset, DataLoader"
   ],
   "metadata": {
    "collapsed": false,
    "ExecuteTime": {
     "end_time": "2024-04-20T12:24:16.257553Z",
     "start_time": "2024-04-20T12:24:16.241552Z"
    }
   },
   "id": "e64fef27c8d4145f",
   "execution_count": 20
  },
  {
   "cell_type": "code",
   "outputs": [],
   "source": [
    "class GestureDataset(Dataset):\n",
    "    fingers = [\n",
    "        [0, 1, 2, 3, 4],\n",
    "        [0, 5, 6, 7, 8],\n",
    "        [0, 9, 10, 11, 12],\n",
    "        [0, 13, 14, 15, 16],\n",
    "        [0, 17, 18, 19, 20]\n",
    "    ]\n",
    "\n",
    "    def __init__(self, data: np.ndarray, label: np.ndarray):\n",
    "        ## data augmentation\n",
    "\n",
    "        ## add the two nearby length in each finger\n",
    "        for finger in self.fingers:\n",
    "            for i in range(len(finger) - 1):\n",
    "                dist = data[:, finger[i + 1]] - data[:, finger[i]]\n",
    "                # add a new dimension\n",
    "                dist = np.expand_dims(dist, axis=1)\n",
    "                data = np.concatenate((data, dist), axis=1)\n",
    "\n",
    "        print(data.shape)\n",
    "\n",
    "        self.data = torch.tensor(data, dtype=torch.float32)\n",
    "        self.label = torch.tensor(label, dtype=torch.float32)\n",
    "\n",
    "        ## normalize the data\n",
    "        self.data = (self.data - self.data.mean(dim=0)) / self.data.std(dim=0)\n",
    "\n",
    "    def __len__(self):\n",
    "        return len(self.data)\n",
    "\n",
    "    def __getitem__(self, idx):\n",
    "        return self.data[idx], self.label[idx]"
   ],
   "metadata": {
    "collapsed": false,
    "ExecuteTime": {
     "end_time": "2024-04-20T12:24:16.273584Z",
     "start_time": "2024-04-20T12:24:16.259554Z"
    }
   },
   "id": "cca826430608c703",
   "execution_count": 21
  },
  {
   "cell_type": "code",
   "outputs": [
    {
     "name": "stdout",
     "output_type": "stream",
     "text": [
      "(200000, 41, 3)\n",
      "(50000, 41, 3)\n"
     ]
    }
   ],
   "source": [
    "## load the data\n",
    "raw_data = np.load('dataset/full_dataset_200k.npz')\n",
    "train_data, train_label, test_data, test_label = raw_data['train_data'], raw_data['train_label'], raw_data['test_data'], \\\n",
    "    raw_data['test_label']\n",
    "\n",
    "# Create an instance of the dataset\n",
    "train_dataset = GestureDataset(train_data, train_label)\n",
    "test_dataset = GestureDataset(test_data, test_label)\n",
    "\n",
    "# Create DataLoader\n",
    "train_loader = DataLoader(train_dataset, batch_size=1024, shuffle=True)\n",
    "test_loader = DataLoader(test_dataset, batch_size=1024, shuffle=False)"
   ],
   "metadata": {
    "collapsed": false,
    "ExecuteTime": {
     "end_time": "2024-04-20T12:24:18.215592Z",
     "start_time": "2024-04-20T12:24:16.274553Z"
    }
   },
   "id": "fd6d5b03e8fe9b5d",
   "execution_count": 22
  },
  {
   "cell_type": "code",
   "outputs": [
    {
     "name": "stdout",
     "output_type": "stream",
     "text": [
      "Using device: cuda\n"
     ]
    }
   ],
   "source": [
    "import torch.nn as nn\n",
    "import torch.optim as optim\n",
    "\n",
    "# Check if GPU is available and set the device accordingly\n",
    "device = torch.device(\"cuda\" if torch.cuda.is_available() else \"cpu\")\n",
    "print(f\"Using device: {device}\")\n",
    "\n",
    "\n",
    "# Define the model\n",
    "class Classifier(nn.Module):\n",
    "    def __init__(self):\n",
    "        super(Classifier, self).__init__()\n",
    "        self.network = nn.Sequential(\n",
    "            nn.Flatten(),\n",
    "            nn.Linear(41 * 3, 128),  # Input layer, flattening 21x3 to 63 features\n",
    "            nn.ReLU(),\n",
    "            nn.Linear(128, 256),\n",
    "            nn.ReLU(),\n",
    "            # nn.Linear(256, 512),\n",
    "            # nn.ReLU(),\n",
    "            # nn.Linear(512, 256),\n",
    "            # nn.ReLU(),\n",
    "            nn.Linear(256, 128),\n",
    "            nn.ReLU(),\n",
    "            nn.Linear(128, 12),  # Output layer, 12 classes\n",
    "        )\n",
    "        # self.network = nn.Sequential(\n",
    "        #     nn.Conv2d(1, 16, kernel_size=(1, 3), stride=1, padding=0),\n",
    "        #     nn.ReLU(),\n",
    "        #     nn.Flatten(),\n",
    "        #     nn.Linear(16 * 21, 256),\n",
    "        #     nn.ReLU(),\n",
    "        #     nn.Linear(256, 128),\n",
    "        #     nn.ReLU(),\n",
    "        #     nn.Linear(128, 12),\n",
    "        #     nn.ReLU(),\n",
    "        #     # nn.LogSoftmax(dim=1)\n",
    "        # )\n",
    "\n",
    "    def forward(self, x):\n",
    "        # add a channel dimension\n",
    "        x = x.unsqueeze(1)\n",
    "\n",
    "        return self.network(x)\n",
    "\n",
    "\n",
    "# Initialize the model, loss function, and optimizer\n",
    "model = Classifier().to(device)\n",
    "criterion = nn.CrossEntropyLoss()  # Using CrossEntropyLoss for classification\n",
    "optimizer = optim.Adam(model.parameters(), lr=1e-3)"
   ],
   "metadata": {
    "collapsed": false,
    "ExecuteTime": {
     "end_time": "2024-04-20T12:24:18.231596Z",
     "start_time": "2024-04-20T12:24:18.216594Z"
    }
   },
   "id": "fc82646802f5d1f2",
   "execution_count": 23
  },
  {
   "cell_type": "code",
   "outputs": [
    {
     "name": "stdout",
     "output_type": "stream",
     "text": [
      "----------------------------------------------------------------\n",
      "        Layer (type)               Output Shape         Param #\n",
      "================================================================\n",
      "           Flatten-1                [1024, 123]               0\n",
      "            Linear-2                [1024, 128]          15,872\n",
      "              ReLU-3                [1024, 128]               0\n",
      "            Linear-4                [1024, 256]          33,024\n",
      "              ReLU-5                [1024, 256]               0\n",
      "            Linear-6                [1024, 128]          32,896\n",
      "              ReLU-7                [1024, 128]               0\n",
      "            Linear-8                 [1024, 12]           1,548\n",
      "================================================================\n",
      "Total params: 83,340\n",
      "Trainable params: 83,340\n",
      "Non-trainable params: 0\n",
      "----------------------------------------------------------------\n",
      "Input size (MB): 0.48\n",
      "Forward/backward pass size (MB): 9.05\n",
      "Params size (MB): 0.32\n",
      "Estimated Total Size (MB): 9.85\n",
      "----------------------------------------------------------------\n"
     ]
    }
   ],
   "source": [
    "## summary the model\n",
    "from torchsummary import summary\n",
    "\n",
    "summary(model, (41, 3), 1024, \"cuda\")"
   ],
   "metadata": {
    "collapsed": false,
    "ExecuteTime": {
     "end_time": "2024-04-20T12:24:18.470416Z",
     "start_time": "2024-04-20T12:24:18.232594Z"
    }
   },
   "id": "d93e53ef8e0e7ca",
   "execution_count": 24
  },
  {
   "cell_type": "code",
   "outputs": [
    {
     "data": {
      "text/plain": "Epoch 1/20:   0%|          | 0/196 [00:00<?, ?it/s]",
      "application/vnd.jupyter.widget-view+json": {
       "version_major": 2,
       "version_minor": 0,
       "model_id": "4ec411397fbb44efbd6409649b23d5ef"
      }
     },
     "metadata": {},
     "output_type": "display_data"
    },
    {
     "data": {
      "text/plain": "Epoch 2/20:   0%|          | 0/196 [00:00<?, ?it/s]",
      "application/vnd.jupyter.widget-view+json": {
       "version_major": 2,
       "version_minor": 0,
       "model_id": "c1502fe00dfa40d494f9b659ba56e6cc"
      }
     },
     "metadata": {},
     "output_type": "display_data"
    },
    {
     "data": {
      "text/plain": "Epoch 3/20:   0%|          | 0/196 [00:00<?, ?it/s]",
      "application/vnd.jupyter.widget-view+json": {
       "version_major": 2,
       "version_minor": 0,
       "model_id": "c59f5f7273024366a519149a16dca32b"
      }
     },
     "metadata": {},
     "output_type": "display_data"
    },
    {
     "data": {
      "text/plain": "Epoch 4/20:   0%|          | 0/196 [00:00<?, ?it/s]",
      "application/vnd.jupyter.widget-view+json": {
       "version_major": 2,
       "version_minor": 0,
       "model_id": "f8de09f3c13f4ceeaa514ba184c6e2f0"
      }
     },
     "metadata": {},
     "output_type": "display_data"
    },
    {
     "data": {
      "text/plain": "Epoch 5/20:   0%|          | 0/196 [00:00<?, ?it/s]",
      "application/vnd.jupyter.widget-view+json": {
       "version_major": 2,
       "version_minor": 0,
       "model_id": "80565ddb2b2d4760b03ab83922c72684"
      }
     },
     "metadata": {},
     "output_type": "display_data"
    },
    {
     "data": {
      "text/plain": "Epoch 6/20:   0%|          | 0/196 [00:00<?, ?it/s]",
      "application/vnd.jupyter.widget-view+json": {
       "version_major": 2,
       "version_minor": 0,
       "model_id": "d4f6456a818b4c33a29e0d546c2d3fa8"
      }
     },
     "metadata": {},
     "output_type": "display_data"
    },
    {
     "data": {
      "text/plain": "Epoch 7/20:   0%|          | 0/196 [00:00<?, ?it/s]",
      "application/vnd.jupyter.widget-view+json": {
       "version_major": 2,
       "version_minor": 0,
       "model_id": "c6d96e0e481f4423a28791ecbb23941f"
      }
     },
     "metadata": {},
     "output_type": "display_data"
    },
    {
     "data": {
      "text/plain": "Epoch 8/20:   0%|          | 0/196 [00:00<?, ?it/s]",
      "application/vnd.jupyter.widget-view+json": {
       "version_major": 2,
       "version_minor": 0,
       "model_id": "0a5b5fc1e8e245baa63a8d7542c75ee2"
      }
     },
     "metadata": {},
     "output_type": "display_data"
    },
    {
     "data": {
      "text/plain": "Epoch 9/20:   0%|          | 0/196 [00:00<?, ?it/s]",
      "application/vnd.jupyter.widget-view+json": {
       "version_major": 2,
       "version_minor": 0,
       "model_id": "9946a41d101e48908dd609b2d19be6d7"
      }
     },
     "metadata": {},
     "output_type": "display_data"
    },
    {
     "data": {
      "text/plain": "Epoch 10/20:   0%|          | 0/196 [00:00<?, ?it/s]",
      "application/vnd.jupyter.widget-view+json": {
       "version_major": 2,
       "version_minor": 0,
       "model_id": "5f3d4f783e794bd9b6270a4c69221417"
      }
     },
     "metadata": {},
     "output_type": "display_data"
    },
    {
     "data": {
      "text/plain": "Epoch 11/20:   0%|          | 0/196 [00:00<?, ?it/s]",
      "application/vnd.jupyter.widget-view+json": {
       "version_major": 2,
       "version_minor": 0,
       "model_id": "621e729c00994750987b8d575065a549"
      }
     },
     "metadata": {},
     "output_type": "display_data"
    },
    {
     "data": {
      "text/plain": "Epoch 12/20:   0%|          | 0/196 [00:00<?, ?it/s]",
      "application/vnd.jupyter.widget-view+json": {
       "version_major": 2,
       "version_minor": 0,
       "model_id": "4fe9321f4a16458eab156db93ee72eda"
      }
     },
     "metadata": {},
     "output_type": "display_data"
    },
    {
     "data": {
      "text/plain": "Epoch 13/20:   0%|          | 0/196 [00:00<?, ?it/s]",
      "application/vnd.jupyter.widget-view+json": {
       "version_major": 2,
       "version_minor": 0,
       "model_id": "55b883059a694f13806a75d3c08e2868"
      }
     },
     "metadata": {},
     "output_type": "display_data"
    },
    {
     "data": {
      "text/plain": "Epoch 14/20:   0%|          | 0/196 [00:00<?, ?it/s]",
      "application/vnd.jupyter.widget-view+json": {
       "version_major": 2,
       "version_minor": 0,
       "model_id": "f92f53f1812242e69abf8657ec9eddd7"
      }
     },
     "metadata": {},
     "output_type": "display_data"
    },
    {
     "data": {
      "text/plain": "Epoch 15/20:   0%|          | 0/196 [00:00<?, ?it/s]",
      "application/vnd.jupyter.widget-view+json": {
       "version_major": 2,
       "version_minor": 0,
       "model_id": "b1e5a12aa3d14d6584418561a82e00db"
      }
     },
     "metadata": {},
     "output_type": "display_data"
    },
    {
     "data": {
      "text/plain": "Epoch 16/20:   0%|          | 0/196 [00:00<?, ?it/s]",
      "application/vnd.jupyter.widget-view+json": {
       "version_major": 2,
       "version_minor": 0,
       "model_id": "dee7dc0201dd4dc5968ae324abce8955"
      }
     },
     "metadata": {},
     "output_type": "display_data"
    },
    {
     "data": {
      "text/plain": "Epoch 17/20:   0%|          | 0/196 [00:00<?, ?it/s]",
      "application/vnd.jupyter.widget-view+json": {
       "version_major": 2,
       "version_minor": 0,
       "model_id": "b79f6bbf9abb48a9acf90da59183ee05"
      }
     },
     "metadata": {},
     "output_type": "display_data"
    },
    {
     "data": {
      "text/plain": "Epoch 18/20:   0%|          | 0/196 [00:00<?, ?it/s]",
      "application/vnd.jupyter.widget-view+json": {
       "version_major": 2,
       "version_minor": 0,
       "model_id": "c437846de76f4d498f2302057329aac3"
      }
     },
     "metadata": {},
     "output_type": "display_data"
    },
    {
     "data": {
      "text/plain": "Epoch 19/20:   0%|          | 0/196 [00:00<?, ?it/s]",
      "application/vnd.jupyter.widget-view+json": {
       "version_major": 2,
       "version_minor": 0,
       "model_id": "504a722b70624e63981d629367fcdee6"
      }
     },
     "metadata": {},
     "output_type": "display_data"
    },
    {
     "data": {
      "text/plain": "Epoch 20/20:   0%|          | 0/196 [00:00<?, ?it/s]",
      "application/vnd.jupyter.widget-view+json": {
       "version_major": 2,
       "version_minor": 0,
       "model_id": "997d338be83c401fab38ab76ae7d35ed"
      }
     },
     "metadata": {},
     "output_type": "display_data"
    }
   ],
   "source": [
    "from tqdm.notebook import tqdm\n",
    "from sklearn.metrics import confusion_matrix\n",
    "\n",
    "# Training loop with tqdm progress bar\n",
    "epochs = 20\n",
    "for epoch in range(epochs):\n",
    "    running_loss = 0.0\n",
    "    correct_predictions = 0\n",
    "    total_predictions = 0\n",
    "\n",
    "    progress_bar = tqdm(train_loader, desc=f'Epoch {epoch + 1}/{epochs}')\n",
    "    for inputs, labels in progress_bar:\n",
    "        inputs, labels = inputs.to(device), labels.to(device)  # Move data to the device\n",
    "\n",
    "        outputs = model(inputs)  # Forward pass\n",
    "        loss = criterion(outputs, labels)  # Calculate loss\n",
    "\n",
    "        optimizer.zero_grad()  # Clear gradients\n",
    "        loss.backward()  # Backpropagation\n",
    "        optimizer.step()  # Update weights\n",
    "\n",
    "        # Calculate accuracy\n",
    "        _, predicted = torch.max(outputs, 1)\n",
    "        labels = torch.argmax(labels, dim=1)\n",
    "\n",
    "        total_predictions += predicted.size(0)\n",
    "        correct_predictions += (predicted == labels).sum().item()\n",
    "\n",
    "        running_loss += loss.item() * inputs.size(0)\n",
    "        progress_bar.set_postfix({'loss': loss.item(), 'acc': f\"{100. * correct_predictions / total_predictions:.2f}%\"})\n",
    "\n"
   ],
   "metadata": {
    "collapsed": false,
    "ExecuteTime": {
     "end_time": "2024-04-20T12:24:59.030928Z",
     "start_time": "2024-04-20T12:24:18.472090Z"
    }
   },
   "id": "2e47d749336adc0a",
   "execution_count": 25
  },
  {
   "cell_type": "code",
   "outputs": [
    {
     "data": {
      "text/plain": "Testing:   0%|          | 0/49 [00:00<?, ?it/s]",
      "application/vnd.jupyter.widget-view+json": {
       "version_major": 2,
       "version_minor": 0,
       "model_id": "7a9528b1f2f24c13bf27574f03b0c38c"
      }
     },
     "metadata": {},
     "output_type": "display_data"
    },
    {
     "name": "stdout",
     "output_type": "stream",
     "text": [
      "[[4177   79    1   33    1    7    1    4    3    0    7    0]\n",
      " [  30 3833    7    5    5    8    1    4    2    4    2    0]\n",
      " [  17   64 3984    5    1   31    1    3    5    5    3    1]\n",
      " [  44   73    1 3738    2    6    2    0    1    5    2    0]\n",
      " [   4   33    0    4 4111    3    3    3    1    4    2    2]\n",
      " [  21   63   14    2    1 3894    0    3   13    4    2   16]\n",
      " [   6   27    0    1    8    2 4377    0    4    2    6    1]\n",
      " [   8   51    3    4    0   21    2 4071    4   24    8   33]\n",
      " [  22   54    4    3    4   32    1    5 3900    6    0    4]\n",
      " [  14   44    1    3   14    8    6   32    3 3869    2    5]\n",
      " [  14   18    2    4    2    8    3    3    1    0 4293    0]\n",
      " [  17   36    3    3    4   30    1   10    6    7    5 4420]]\n"
     ]
    }
   ],
   "source": [
    "## test the model\n",
    "model.eval()\n",
    "correct_predictions = 0\n",
    "total_predictions = 0\n",
    "y_true = []  # True labels\n",
    "y_pred = []  # Predicted labels\n",
    "\n",
    "with torch.no_grad():\n",
    "    progress_bar = tqdm(test_loader, desc='Testing')\n",
    "\n",
    "    for inputs, labels in progress_bar:\n",
    "        inputs, labels = inputs.to(device), labels.to(device)  # Move data to the device\n",
    "\n",
    "        outputs = model(inputs)  # Forward pass\n",
    "\n",
    "        # Calculate accuracy\n",
    "        _, predicted = torch.max(outputs, 1)\n",
    "        labels = torch.argmax(labels, dim=1)\n",
    "        total_predictions += labels.size(0)\n",
    "        correct_predictions += (predicted == labels).sum().item()\n",
    "\n",
    "        y_true.extend(labels.cpu().numpy())\n",
    "        y_pred.extend(predicted.cpu().numpy())\n",
    "\n",
    "        progress_bar.set_postfix({'acc': f\"{100. * correct_predictions / total_predictions:.2f}%\"})\n",
    "\n",
    "    cm = confusion_matrix(y_true, y_pred)\n",
    "    print(cm)"
   ],
   "metadata": {
    "collapsed": false,
    "ExecuteTime": {
     "end_time": "2024-04-20T12:24:59.499904Z",
     "start_time": "2024-04-20T12:24:59.031927Z"
    }
   },
   "id": "1944aa5066e27c1c",
   "execution_count": 26
  },
  {
   "cell_type": "code",
   "outputs": [],
   "source": [
    "# model_path = 'model/classifier.pth'\n",
    "# torch.save(model.state_dict(), model_path)"
   ],
   "metadata": {
    "collapsed": false,
    "ExecuteTime": {
     "end_time": "2024-04-20T12:24:59.515930Z",
     "start_time": "2024-04-20T12:24:59.501858Z"
    }
   },
   "id": "8ad682b84146ba3a",
   "execution_count": 27
  }
 ],
 "metadata": {
  "kernelspec": {
   "display_name": "Python 3",
   "language": "python",
   "name": "python3"
  },
  "language_info": {
   "codemirror_mode": {
    "name": "ipython",
    "version": 2
   },
   "file_extension": ".py",
   "mimetype": "text/x-python",
   "name": "python",
   "nbconvert_exporter": "python",
   "pygments_lexer": "ipython2",
   "version": "2.7.6"
  }
 },
 "nbformat": 4,
 "nbformat_minor": 5
}
