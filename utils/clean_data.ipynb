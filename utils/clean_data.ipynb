{
 "cells": [
  {
   "cell_type": "code",
   "outputs": [
    {
     "name": "stdout",
     "output_type": "stream",
     "text": [
      "(259062, 21, 5) (259062,)\n"
     ]
    }
   ],
   "source": [
    "import numpy as np\n",
    "\n",
    "data = np.load('../dataset/raw/data.npy')\n",
    "raw_label = np.load('../dataset/raw/label.npy')\n",
    "\n",
    "print(data.shape, raw_label.shape)"
   ],
   "metadata": {
    "collapsed": false,
    "ExecuteTime": {
     "end_time": "2024-05-18T08:22:39.998830Z",
     "start_time": "2024-05-18T08:22:39.740087Z"
    }
   },
   "id": "1f73c49a9be2dfd8",
   "execution_count": 27
  },
  {
   "cell_type": "code",
   "outputs": [
    {
     "name": "stdout",
     "output_type": "stream",
     "text": [
      "(259062, 21, 3) (259062,)\n",
      "11 classes\n"
     ]
    }
   ],
   "source": [
    "## remove the empty values\n",
    "data = data[:, :, :3]\n",
    "print(data.shape, raw_label.shape)\n",
    "\n",
    "## convert all 'two_up' into 'peace'\n",
    "raw_label[raw_label == 'two_up'] = 'peace'\n",
    "\n",
    "## figure out the number of classes\n",
    "classes = np.unique(raw_label)\n",
    "print(f\"{len(classes)} classes\")"
   ],
   "metadata": {
    "collapsed": false,
    "ExecuteTime": {
     "end_time": "2024-05-18T08:22:40.030269Z",
     "start_time": "2024-05-18T08:22:40.000830Z"
    }
   },
   "id": "6e1bad43ed40b9cf",
   "execution_count": 28
  },
  {
   "cell_type": "code",
   "outputs": [
    {
     "name": "stdout",
     "output_type": "stream",
     "text": [
      "Class distribution\n",
      "0  call      :  22195\n",
      "1  dislike   :  20526\n",
      "2  fist      :  21359\n",
      "3  like      :  20093\n",
      "4  ok        :  21879\n",
      "5  one       :  20751\n",
      "6  palm      :  22319\n",
      "7  peace     :  45166\n",
      "8  rock      :  20730\n",
      "9  three     :  21179\n",
      "10 three2    :  22865\n"
     ]
    }
   ],
   "source": [
    "## print the number of samples in each classes\n",
    "print(\"Class distribution\")\n",
    "for i, c in enumerate(classes):\n",
    "    print(f'{i:<3}{c:<10}:  {np.sum(raw_label == c)}')"
   ],
   "metadata": {
    "collapsed": false,
    "ExecuteTime": {
     "end_time": "2024-05-18T08:22:40.046246Z",
     "start_time": "2024-05-18T08:22:40.031245Z"
    }
   },
   "id": "75562b52e6f89888",
   "execution_count": 29
  },
  {
   "cell_type": "code",
   "outputs": [
    {
     "name": "stdout",
     "output_type": "stream",
     "text": [
      "(259062, 11)\n"
     ]
    }
   ],
   "source": [
    "## convert the label to one-hot\n",
    "\n",
    "label = np.zeros((raw_label.shape[0], len(classes)))\n",
    "for i, c in enumerate(classes):\n",
    "    label[raw_label == c, i] = 1\n",
    "\n",
    "print(label.shape)\n"
   ],
   "metadata": {
    "collapsed": false,
    "ExecuteTime": {
     "end_time": "2024-05-18T08:22:40.078246Z",
     "start_time": "2024-05-18T08:22:40.048246Z"
    }
   },
   "id": "cf0ab15e54fde2e5",
   "execution_count": 30
  },
  {
   "cell_type": "code",
   "outputs": [
    {
     "name": "stdout",
     "output_type": "stream",
     "text": [
      "(259062, 21, 3) (259062, 11)\n",
      "[[0. 0. 1. 0. 0. 0. 0. 0. 0. 0. 0.]\n",
      " [0. 1. 0. 0. 0. 0. 0. 0. 0. 0. 0.]\n",
      " [0. 0. 0. 0. 0. 0. 1. 0. 0. 0. 0.]\n",
      " [0. 1. 0. 0. 0. 0. 0. 0. 0. 0. 0.]\n",
      " [0. 0. 0. 0. 0. 0. 0. 1. 0. 0. 0.]\n",
      " [1. 0. 0. 0. 0. 0. 0. 0. 0. 0. 0.]\n",
      " [0. 0. 0. 0. 0. 0. 0. 0. 0. 1. 0.]\n",
      " [0. 0. 0. 0. 1. 0. 0. 0. 0. 0. 0.]\n",
      " [1. 0. 0. 0. 0. 0. 0. 0. 0. 0. 0.]\n",
      " [1. 0. 0. 0. 0. 0. 0. 0. 0. 0. 0.]]\n"
     ]
    }
   ],
   "source": [
    "## shuffle the data\n",
    "idx = np.random.permutation(data.shape[0])\n",
    "\n",
    "data, label = data[idx], label[idx]\n",
    "\n",
    "print(data.shape, label.shape)\n",
    "print(label[:10])"
   ],
   "metadata": {
    "collapsed": false,
    "ExecuteTime": {
     "end_time": "2024-05-18T08:22:40.219997Z",
     "start_time": "2024-05-18T08:22:40.079245Z"
    }
   },
   "id": "aa7c75ea5438e305",
   "execution_count": 31
  },
  {
   "cell_type": "code",
   "outputs": [],
   "source": [
    "# train_size = 200000\n",
    "# test_size = 50000\n",
    "# \n",
    "# assert train_size + test_size <= data.shape[0]\n",
    "# \n",
    "# ## split the data into train and test\n",
    "# train_data, train_label = data[:train_size], label[:train_size]\n",
    "# print(train_data.shape, train_label.shape)\n",
    "# \n",
    "# test_data, test_label = data[train_size:train_size + test_size], label[train_size:train_size + test_size]\n",
    "# print(test_data.shape, test_label.shape)\n"
   ],
   "metadata": {
    "collapsed": false,
    "ExecuteTime": {
     "end_time": "2024-05-18T08:22:40.236014Z",
     "start_time": "2024-05-18T08:22:40.220998Z"
    }
   },
   "id": "e3ab439fe3615ef1",
   "execution_count": 32
  },
  {
   "cell_type": "code",
   "outputs": [
    {
     "name": "stdout",
     "output_type": "stream",
     "text": [
      "(100000, 21, 3) (100000, 11)\n",
      "[11395. 10556. 10951. 10326. 11394. 10646. 11494. 23238.     0.     0.\n",
      "     0.]\n",
      "(50000, 21, 3) (50000, 11)\n",
      "[4347. 4037. 4097. 3805. 4276. 4029. 4356. 8630. 4031. 4064. 4328.]\n"
     ]
    }
   ],
   "source": [
    "train_size = 100000\n",
    "test_size = 50000\n",
    "\n",
    "## train data should only have samples of the first 6 classes\n",
    "\n",
    "train_data, train_label = [], []\n",
    "\n",
    "idx = np.where(np.argmax(label, axis=1) < 8)[0]\n",
    "train_data.append(data[idx[:train_size]])\n",
    "train_label.append(label[idx[:train_size]])\n",
    "\n",
    "train_data = np.concatenate(train_data, axis=0)\n",
    "train_label = np.concatenate(train_label, axis=0)\n",
    "\n",
    "print(train_data.shape, train_label.shape)\n",
    "print(np.sum(train_label, axis=0))\n",
    "\n",
    "\n",
    "## test data should have samples of all classes\n",
    "\n",
    "test_data, test_label = [], []\n",
    "\n",
    "idx = np.random.permutation(data.shape[0])\n",
    "test_data.append(data[idx[:test_size]])\n",
    "test_label.append(label[idx[:test_size]])\n",
    "\n",
    "test_data = np.concatenate(test_data, axis=0)\n",
    "test_label = np.concatenate(test_label, axis=0)\n",
    "\n",
    "print(test_data.shape, test_label.shape)\n",
    "print(np.sum(test_label, axis=0))"
   ],
   "metadata": {
    "collapsed": false,
    "ExecuteTime": {
     "end_time": "2024-05-18T08:22:40.314954Z",
     "start_time": "2024-05-18T08:22:40.236999Z"
    }
   },
   "id": "2f5566a5d922d9ad",
   "execution_count": 33
  },
  {
   "cell_type": "code",
   "outputs": [],
   "source": [
    "## save the data\n",
    "np.savez_compressed('../dataset/8class_dataset_100k.npz', train_data=train_data, train_label=train_label,\n",
    "                    test_data=test_data, test_label=test_label)"
   ],
   "metadata": {
    "collapsed": false,
    "ExecuteTime": {
     "end_time": "2024-05-18T08:22:46.936166Z",
     "start_time": "2024-05-18T08:22:40.315955Z"
    }
   },
   "id": "f1701d56cbb2f305",
   "execution_count": 34
  },
  {
   "cell_type": "code",
   "outputs": [],
   "source": [],
   "metadata": {
    "collapsed": false,
    "ExecuteTime": {
     "end_time": "2024-05-18T08:22:46.951157Z",
     "start_time": "2024-05-18T08:22:46.937142Z"
    }
   },
   "id": "1848154e2b46be54",
   "execution_count": 34
  }
 ],
 "metadata": {
  "kernelspec": {
   "display_name": "Python 3",
   "language": "python",
   "name": "python3"
  },
  "language_info": {
   "codemirror_mode": {
    "name": "ipython",
    "version": 2
   },
   "file_extension": ".py",
   "mimetype": "text/x-python",
   "name": "python",
   "nbconvert_exporter": "python",
   "pygments_lexer": "ipython2",
   "version": "2.7.6"
  }
 },
 "nbformat": 4,
 "nbformat_minor": 5
}
