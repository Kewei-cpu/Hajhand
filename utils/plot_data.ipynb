{
 "cells": [
  {
   "cell_type": "code",
   "outputs": [
    {
     "name": "stdout",
     "output_type": "stream",
     "text": [
      "(200000, 21, 3) (200000, 11)\n",
      "(50000, 21, 3) (50000, 11)\n"
     ]
    }
   ],
   "source": [
    "import numpy as np\n",
    "\n",
    "## load the data\n",
    "raw_data = np.load('../dataset/full_dataset_200k.npz')\n",
    "train_data, train_label, test_data, test_label = raw_data['train_data'], raw_data['train_label'], raw_data['test_data'], \\\n",
    "    raw_data['test_label']\n",
    "\n",
    "## check the shape of the data\n",
    "print(train_data.shape, train_label.shape)\n",
    "print(test_data.shape, test_label.shape)"
   ],
   "metadata": {
    "collapsed": false,
    "ExecuteTime": {
     "end_time": "2024-05-20T07:46:08.225042Z",
     "start_time": "2024-05-20T07:46:07.616164Z"
    }
   },
   "id": "a09b01b34e62c2c1",
   "execution_count": 1
  },
  {
   "cell_type": "code",
   "outputs": [],
   "source": [
    "label_map = {\n",
    "    0: 'call',\n",
    "    1: 'dislike',\n",
    "    2: 'fist',\n",
    "    3: 'like',\n",
    "    4: 'ok',\n",
    "    5: 'one',\n",
    "    6: 'palm',\n",
    "    7: 'peace',\n",
    "    8: 'rock',\n",
    "    9: 'three',\n",
    "    10: 'three2',\n",
    "}\n"
   ],
   "metadata": {
    "collapsed": false,
    "ExecuteTime": {
     "end_time": "2024-05-20T07:46:08.240556Z",
     "start_time": "2024-05-20T07:46:08.227042Z"
    }
   },
   "id": "d83cf4b6c33a79c2",
   "execution_count": 2
  },
  {
   "cell_type": "code",
   "outputs": [
    {
     "name": "stdout",
     "output_type": "stream",
     "text": [
      "[[-0.00835368  0.08333832  0.02246482]\n",
      " [ 0.01972158  0.06720808  0.0110712 ]\n",
      " [ 0.04839373  0.05301165  0.00284912]\n",
      " [ 0.07390016  0.03938413  0.00686876]\n",
      " [ 0.091334    0.02486701  0.00922317]\n",
      " [ 0.02342036 -0.00052224  0.00326164]\n",
      " [ 0.02839396 -0.02523342 -0.00254855]\n",
      " [ 0.03319443 -0.04682421 -0.01123443]\n",
      " [ 0.03303966 -0.05736016 -0.03536431]\n",
      " [ 0.00106288 -0.00524902  0.00516239]\n",
      " [ 0.00356518 -0.03721415 -0.01011843]\n",
      " [ 0.00186117 -0.0562139  -0.02611608]\n",
      " [ 0.00459281 -0.07152949 -0.04595782]\n",
      " [-0.0153759  -0.00134533 -0.00188984]\n",
      " [-0.01835628 -0.03095203 -0.01285448]\n",
      " [-0.01699879 -0.04880228 -0.02618797]\n",
      " [-0.01317684 -0.06460892 -0.04469381]\n",
      " [-0.03301865  0.01086632 -0.00811064]\n",
      " [-0.04024506 -0.01044674 -0.01141597]\n",
      " [-0.04514074 -0.02661595 -0.01906035]\n",
      " [-0.04585693 -0.04289053 -0.03160419]]\n",
      "0.027802295356412373\n"
     ]
    }
   ],
   "source": [
    "## show a data of the palm class (train_label=6)\n",
    "\n",
    "sample = train_data[np.argmax(train_label, axis=1) == 6][0]\n",
    "\n",
    "print(sample)\n",
    "\n",
    "## get the mean absolute value\n",
    "print(np.mean(np.abs(sample)))\n"
   ],
   "metadata": {
    "collapsed": false,
    "ExecuteTime": {
     "end_time": "2024-05-20T07:46:08.256553Z",
     "start_time": "2024-05-20T07:46:08.241553Z"
    }
   },
   "id": "9e2b726839767062",
   "execution_count": 3
  },
  {
   "cell_type": "code",
   "outputs": [],
   "source": [
    "sample = [21943, 12837, 123980, 222222, 222223, 222224]"
   ],
   "metadata": {
    "collapsed": false,
    "ExecuteTime": {
     "end_time": "2024-05-20T07:46:08.272568Z",
     "start_time": "2024-05-20T07:46:08.257554Z"
    }
   },
   "id": "7053f07086390d1b",
   "execution_count": 4
  },
  {
   "cell_type": "code",
   "outputs": [
    {
     "ename": "IndexError",
     "evalue": "index 222222 is out of bounds for axis 0 with size 200000",
     "output_type": "error",
     "traceback": [
      "\u001B[1;31m---------------------------------------------------------------------------\u001B[0m",
      "\u001B[1;31mIndexError\u001B[0m                                Traceback (most recent call last)",
      "Cell \u001B[1;32mIn[5], Line 9\u001B[0m\n\u001B[0;32m      6\u001B[0m fig \u001B[38;5;241m=\u001B[39m plt\u001B[38;5;241m.\u001B[39mfigure()\n\u001B[0;32m      8\u001B[0m \u001B[38;5;28;01mfor\u001B[39;00m i, idx \u001B[38;5;129;01min\u001B[39;00m \u001B[38;5;28menumerate\u001B[39m(sample):\n\u001B[1;32m----> 9\u001B[0m     sample \u001B[38;5;241m=\u001B[39m \u001B[43mtrain_data\u001B[49m\u001B[43m[\u001B[49m\u001B[43midx\u001B[49m\u001B[43m]\u001B[49m\n\u001B[0;32m     11\u001B[0m     ax \u001B[38;5;241m=\u001B[39m fig\u001B[38;5;241m.\u001B[39madd_subplot(\u001B[38;5;241m2\u001B[39m, \u001B[38;5;241m3\u001B[39m, i \u001B[38;5;241m+\u001B[39m \u001B[38;5;241m1\u001B[39m, projection\u001B[38;5;241m=\u001B[39m\u001B[38;5;124m'\u001B[39m\u001B[38;5;124m3d\u001B[39m\u001B[38;5;124m'\u001B[39m)\n\u001B[0;32m     12\u001B[0m     ax\u001B[38;5;241m.\u001B[39mset_title(\u001B[38;5;124mf\u001B[39m\u001B[38;5;124m'\u001B[39m\u001B[38;5;124mClass: \u001B[39m\u001B[38;5;132;01m{\u001B[39;00mlabel_map[np\u001B[38;5;241m.\u001B[39margmax(train_label[idx])]\u001B[38;5;132;01m}\u001B[39;00m\u001B[38;5;124m'\u001B[39m)\n",
      "\u001B[1;31mIndexError\u001B[0m: index 222222 is out of bounds for axis 0 with size 200000"
     ]
    }
   ],
   "source": [
    "\n",
    "%matplotlib tk\n",
    "import matplotlib.pyplot as plt\n",
    "\n",
    "## plot 5 sample in 3d space\n",
    "\n",
    "fig = plt.figure()\n",
    "\n",
    "for i, idx in enumerate(sample):\n",
    "    sample = train_data[idx]\n",
    "\n",
    "    ax = fig.add_subplot(2, 3, i + 1, projection='3d')\n",
    "    ax.set_title(f'Class: {label_map[np.argmax(train_label[idx])]}')\n",
    "\n",
    "    # plt.axis('off')\n",
    "    ax.set_xticklabels([])\n",
    "    ax.set_yticklabels([])\n",
    "    ax.set_zticklabels([])\n",
    "\n",
    "    ## set projection\n",
    "    ax.view_init(elev=-90, azim=-90)\n",
    "\n",
    "    ax.scatter(sample[:, 0], sample[:, 1], sample[:, 2], marker='o', c='C0')\n",
    "\n",
    "    ## connect the fingers\n",
    "    fingers = [\n",
    "        [0, 1, 2, 3, 4],\n",
    "        [0, 5, 6, 7, 8],\n",
    "        [9, 10, 11, 12],\n",
    "        [13, 14, 15, 16],\n",
    "        [0, 17, 18, 19, 20],\n",
    "        [5, 9, 13, 17]\n",
    "    ]\n",
    "\n",
    "    for finger in fingers:\n",
    "        ax.plot(sample[finger, 0], sample[finger, 1], sample[finger, 2], c='C1')\n",
    "\n",
    "plt.show()\n"
   ],
   "metadata": {
    "collapsed": false,
    "ExecuteTime": {
     "end_time": "2024-05-20T07:46:09.041555Z",
     "start_time": "2024-05-20T07:46:08.273552Z"
    }
   },
   "id": "f697c2f04df33cb0",
   "execution_count": 5
  },
  {
   "cell_type": "markdown",
   "source": [],
   "metadata": {
    "collapsed": false
   },
   "id": "c604cdd0199fee48"
  }
 ],
 "metadata": {
  "kernelspec": {
   "display_name": "Python 3",
   "language": "python",
   "name": "python3"
  },
  "language_info": {
   "codemirror_mode": {
    "name": "ipython",
    "version": 2
   },
   "file_extension": ".py",
   "mimetype": "text/x-python",
   "name": "python",
   "nbconvert_exporter": "python",
   "pygments_lexer": "ipython2",
   "version": "2.7.6"
  }
 },
 "nbformat": 4,
 "nbformat_minor": 5
}
