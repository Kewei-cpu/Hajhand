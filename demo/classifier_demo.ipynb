{
 "cells": [
  {
   "cell_type": "code",
   "execution_count": 1,
   "id": "e64fef27c8d4145f",
   "metadata": {
    "ExecuteTime": {
     "end_time": "2024-04-19T12:08:26.729912Z",
     "start_time": "2024-04-19T12:08:26.725912Z"
    },
    "collapsed": false
   },
   "outputs": [],
   "source": [
    "import numpy as np\n",
    "import torch\n",
    "from torch.utils.data import Dataset, DataLoader"
   ]
  },
  {
   "cell_type": "code",
   "execution_count": 2,
   "id": "cca826430608c703",
   "metadata": {
    "ExecuteTime": {
     "end_time": "2024-04-19T12:08:26.745919Z",
     "start_time": "2024-04-19T12:08:26.730913Z"
    },
    "collapsed": false
   },
   "outputs": [],
   "source": [
    "class GestureDataset(Dataset):\n",
    "    def __init__(self, data: np.ndarray, label: np.ndarray):\n",
    "        self.data = torch.tensor(data, dtype=torch.float32)\n",
    "        self.label = torch.tensor(label, dtype=torch.float32)\n",
    "\n",
    "    def __len__(self):\n",
    "        return len(self.data)\n",
    "\n",
    "    def __getitem__(self, idx):\n",
    "        return self.data[idx], self.label[idx]"
   ]
  },
  {
   "cell_type": "code",
   "execution_count": 3,
   "id": "fd6d5b03e8fe9b5d",
   "metadata": {
    "ExecuteTime": {
     "end_time": "2024-04-19T12:08:27.578381Z",
     "start_time": "2024-04-19T12:08:26.747423Z"
    },
    "collapsed": false
   },
   "outputs": [],
   "source": [
    "## load the data\n",
    "raw_data = np.load('E:/Hand_Gesture_Recognition/gesture_dataset/full_dataset.npz')\n",
    "train_data, train_label, test_data, test_label = raw_data['train_data'], raw_data['train_label'], raw_data['test_data'], \\\n",
    "    raw_data['test_label']\n",
    "\n",
    "# Create an instance of the dataset\n",
    "train_dataset = GestureDataset(train_data, train_label)\n",
    "test_dataset = GestureDataset(test_data, test_label)\n",
    "\n",
    "# Create DataLoader\n",
    "train_loader = DataLoader(train_dataset, batch_size=64, shuffle=True)\n",
    "test_loader = DataLoader(test_dataset, batch_size=64, shuffle=False)"
   ]
  },
  {
   "cell_type": "code",
   "execution_count": 4,
   "id": "fc82646802f5d1f2",
   "metadata": {
    "ExecuteTime": {
     "end_time": "2024-04-19T12:08:27.594383Z",
     "start_time": "2024-04-19T12:08:27.579382Z"
    },
    "collapsed": false
   },
   "outputs": [
    {
     "name": "stdout",
     "output_type": "stream",
     "text": [
      "Using device: cuda\n"
     ]
    }
   ],
   "source": [
    "import torch\n",
    "import torch.nn as nn\n",
    "import torch.optim as optim\n",
    "\n",
    "# Check if GPU is available and set the device accordingly\n",
    "device = torch.device(\"cuda\" if torch.cuda.is_available() else \"cpu\")\n",
    "print(f\"Using device: {device}\")\n",
    "\n",
    "\n",
    "# Define the model\n",
    "class Classifier(nn.Module):\n",
    "    def __init__(self):\n",
    "        super(Classifier, self).__init__()\n",
    "        self.flatten = nn.Flatten()\n",
    "        self.network = nn.Sequential(\n",
    "            nn.Linear(21 * 3, 63),  # Input layer, flattening 21x3 to 63 features\n",
    "            nn.ReLU(), \n",
    "            nn.Linear(63, 189), \n",
    "            nn.ReLU(), \n",
    "            nn.Linear(189, 256),\n",
    "            nn.ReLU(),\n",
    "            nn.Linear(256, 189),\n",
    "            nn.ReLU(),\n",
    "            nn.Linear(189, 63),\n",
    "            nn.ReLU(),\n",
    "            nn.Linear(63, 12),  # Output layer, 12 classes\n",
    "            nn.LogSoftmax(dim=1)  # Using LogSoftmax for numerical stability\n",
    "        )\n",
    "\n",
    "    def forward(self, x):\n",
    "        x = self.flatten(x)  # Flatten the input\n",
    "        return self.network(x)\n",
    "\n",
    "\n",
    "# Initialize the model, loss function, and optimizer\n",
    "model = Classifier().to(device)\n",
    "criterion = nn.CrossEntropyLoss()  # Using CrossEntropyLoss for classification\n",
    "optimizer = optim.Adam(model.parameters(), lr=0.001)"
   ]
  },
  {
   "cell_type": "code",
   "execution_count": null,
   "id": "f571b9a6",
   "metadata": {},
   "outputs": [],
   "source": []
  },
  {
   "cell_type": "code",
   "execution_count": 5,
   "id": "2e47d749336adc0a",
   "metadata": {
    "ExecuteTime": {
     "end_time": "2024-04-19T12:10:28.930904Z",
     "start_time": "2024-04-19T12:08:27.596385Z"
    },
    "collapsed": false
   },
   "outputs": [
    {
     "data": {
      "application/vnd.jupyter.widget-view+json": {
       "model_id": "0b82ea802ad04e83808d3400e6f4df29",
       "version_major": 2,
       "version_minor": 0
      },
      "text/plain": [
       "Epoch 1/10:   0%|          | 0/3907 [00:00<?, ?it/s]"
      ]
     },
     "metadata": {},
     "output_type": "display_data"
    },
    {
     "data": {
      "application/vnd.jupyter.widget-view+json": {
       "model_id": "73ddb304ffe34bedb396ea4357b47543",
       "version_major": 2,
       "version_minor": 0
      },
      "text/plain": [
       "Epoch 2/10:   0%|          | 0/3907 [00:00<?, ?it/s]"
      ]
     },
     "metadata": {},
     "output_type": "display_data"
    },
    {
     "data": {
      "application/vnd.jupyter.widget-view+json": {
       "model_id": "e0b8b0e7b2b4468f8191c0a12ed55625",
       "version_major": 2,
       "version_minor": 0
      },
      "text/plain": [
       "Epoch 3/10:   0%|          | 0/3907 [00:00<?, ?it/s]"
      ]
     },
     "metadata": {},
     "output_type": "display_data"
    },
    {
     "data": {
      "application/vnd.jupyter.widget-view+json": {
       "model_id": "5418f9d82f0149318963d40e4a0c3a53",
       "version_major": 2,
       "version_minor": 0
      },
      "text/plain": [
       "Epoch 4/10:   0%|          | 0/3907 [00:00<?, ?it/s]"
      ]
     },
     "metadata": {},
     "output_type": "display_data"
    },
    {
     "data": {
      "application/vnd.jupyter.widget-view+json": {
       "model_id": "2be43fbfaca2442ba6efa47ab96b307c",
       "version_major": 2,
       "version_minor": 0
      },
      "text/plain": [
       "Epoch 5/10:   0%|          | 0/3907 [00:00<?, ?it/s]"
      ]
     },
     "metadata": {},
     "output_type": "display_data"
    },
    {
     "data": {
      "application/vnd.jupyter.widget-view+json": {
       "model_id": "fba2d4943b5a4bf0a29010de58bbe84a",
       "version_major": 2,
       "version_minor": 0
      },
      "text/plain": [
       "Epoch 6/10:   0%|          | 0/3907 [00:00<?, ?it/s]"
      ]
     },
     "metadata": {},
     "output_type": "display_data"
    },
    {
     "data": {
      "application/vnd.jupyter.widget-view+json": {
       "model_id": "1760b25183ec4930b9dd5205e787dc83",
       "version_major": 2,
       "version_minor": 0
      },
      "text/plain": [
       "Epoch 7/10:   0%|          | 0/3907 [00:00<?, ?it/s]"
      ]
     },
     "metadata": {},
     "output_type": "display_data"
    },
    {
     "data": {
      "application/vnd.jupyter.widget-view+json": {
       "model_id": "f733994abc4a432ebdc5caed4b237cf8",
       "version_major": 2,
       "version_minor": 0
      },
      "text/plain": [
       "Epoch 8/10:   0%|          | 0/3907 [00:00<?, ?it/s]"
      ]
     },
     "metadata": {},
     "output_type": "display_data"
    },
    {
     "data": {
      "application/vnd.jupyter.widget-view+json": {
       "model_id": "6cc2b122ff9b42a39341d0ed9d8e3154",
       "version_major": 2,
       "version_minor": 0
      },
      "text/plain": [
       "Epoch 9/10:   0%|          | 0/3907 [00:00<?, ?it/s]"
      ]
     },
     "metadata": {},
     "output_type": "display_data"
    },
    {
     "data": {
      "application/vnd.jupyter.widget-view+json": {
       "model_id": "dade4508e77d460c929384c22fe6d25f",
       "version_major": 2,
       "version_minor": 0
      },
      "text/plain": [
       "Epoch 10/10:   0%|          | 0/3907 [00:00<?, ?it/s]"
      ]
     },
     "metadata": {},
     "output_type": "display_data"
    }
   ],
   "source": [
    "from tqdm.notebook import tqdm\n",
    "\n",
    "# Training loop with tqdm progress bar\n",
    "epochs = 10\n",
    "for epoch in range(epochs):\n",
    "    running_loss = 0.0\n",
    "    correct_predictions = 0\n",
    "    total_predictions = 0\n",
    "    progress_bar = tqdm(train_loader, desc=f'Epoch {epoch + 1}/{epochs}')\n",
    "    for inputs, labels in progress_bar:\n",
    "        inputs, labels = inputs.to(device), labels.to(device)  # Move data to the device\n",
    "\n",
    "        outputs = model(inputs)  # Forward pass\n",
    "        loss = criterion(outputs, labels)  # Calculate loss\n",
    "\n",
    "        optimizer.zero_grad()  # Clear gradients\n",
    "        loss.backward()  # Backpropagation\n",
    "        optimizer.step()  # Update weights\n",
    "\n",
    "        # Calculate accuracy\n",
    "        _, predicted = torch.max(outputs, 1)\n",
    "\n",
    "        labels = torch.argmax(labels, dim=1)\n",
    "        \n",
    "        total_predictions += labels.size(0)\n",
    "        correct_predictions += (predicted == labels).sum().item()\n",
    "\n",
    "        running_loss += loss.item() * inputs.size(0)\n",
    "        progress_bar.set_postfix({'loss': loss.item(), 'acc': f\"{100. * correct_predictions / total_predictions:.2f}%\"})\n",
    "\n",
    "    epoch_loss = running_loss / len(train_loader.dataset)\n",
    "    epoch_acc = 100. * correct_predictions / total_predictions"
   ]
  },
  {
   "cell_type": "code",
   "execution_count": 6,
   "id": "1944aa5066e27c1c",
   "metadata": {
    "ExecuteTime": {
     "end_time": "2024-04-19T12:10:29.944814Z",
     "start_time": "2024-04-19T12:10:28.932104Z"
    },
    "collapsed": false
   },
   "outputs": [
    {
     "data": {
      "application/vnd.jupyter.widget-view+json": {
       "model_id": "85101979080545cdb9428523234bca47",
       "version_major": 2,
       "version_minor": 0
      },
      "text/plain": [
       "Testing:   0%|          | 0/142 [00:00<?, ?it/s]"
      ]
     },
     "metadata": {},
     "output_type": "display_data"
    }
   ],
   "source": [
    "## test the model\n",
    "model.eval()\n",
    "correct_predictions = 0\n",
    "total_predictions = 0\n",
    "\n",
    "with torch.no_grad():\n",
    "    progress_bar = tqdm(test_loader, desc='Testing')\n",
    "    \n",
    "    for inputs, labels in progress_bar:\n",
    "        inputs, labels = inputs.to(device), labels.to(device)  # Move data to the device\n",
    "\n",
    "        outputs = model(inputs)  # Forward pass\n",
    "\n",
    "        # Calculate accuracy\n",
    "        _, predicted = torch.max(outputs, 1)\n",
    "        labels = torch.argmax(labels, dim=1)\n",
    "        total_predictions += labels.size(0)\n",
    "        correct_predictions += (predicted == labels).sum().item()\n",
    "\n",
    "        progress_bar.set_postfix({'acc': f\"{100. * correct_predictions / total_predictions:.2f}%\"})\n"
   ]
  },
  {
   "cell_type": "code",
   "execution_count": 8,
   "id": "1578e4fd",
   "metadata": {},
   "outputs": [
    {
     "name": "stdout",
     "output_type": "stream",
     "text": [
      "No hands detected\n",
      "No hands detected\n",
      "No hands detected\n",
      "No hands detected\n",
      "No hands detected\n",
      "No hands detected\n",
      "No hands detected\n",
      "No hands detected\n",
      "No hands detected\n",
      "No hands detected\n",
      "No hands detected\n",
      "No hands detected\n",
      "No hands detected\n",
      "No hands detected\n",
      "No hands detected\n",
      "No hands detected\n",
      "No hands detected\n",
      "No hands detected\n",
      "No hands detected\n",
      "No hands detected\n",
      "No hands detected\n",
      "No hands detected\n",
      "No hands detected\n",
      "No hands detected\n",
      "No hands detected\n",
      "No hands detected\n",
      "No hands detected\n",
      "No hands detected\n",
      "No hands detected\n",
      "No hands detected\n",
      "No hands detected\n",
      "No hands detected\n",
      "No hands detected\n",
      "No hands detected\n",
      "No hands detected\n",
      "No hands detected\n",
      "No hands detected\n",
      "No hands detected\n",
      "No hands detected\n",
      "No hands detected\n",
      "No hands detected\n",
      "No hands detected\n",
      "No hands detected\n",
      "No hands detected\n",
      "No hands detected\n",
      "No hands detected\n",
      "No hands detected\n",
      "No hands detected\n",
      "No hands detected\n",
      "No hands detected\n",
      "No hands detected\n",
      "No hands detected\n",
      "No hands detected\n",
      "No hands detected\n",
      "No hands detected\n",
      "No hands detected\n",
      "No hands detected\n",
      "No hands detected\n",
      "No hands detected\n",
      "Predicted Gesture: 0\n",
      "Predicted Gesture: 0\n",
      "Predicted Gesture: 0\n",
      "Predicted Gesture: 0\n",
      "Predicted Gesture: 10\n",
      "Predicted Gesture: 10\n",
      "Predicted Gesture: 10\n",
      "Predicted Gesture: 10\n",
      "Predicted Gesture: 10\n",
      "Predicted Gesture: 10\n",
      "Predicted Gesture: 10\n",
      "Predicted Gesture: 10\n",
      "Predicted Gesture: 10\n",
      "Predicted Gesture: 10\n",
      "Predicted Gesture: 10\n",
      "Predicted Gesture: 0\n",
      "Predicted Gesture: 10\n",
      "Predicted Gesture: 10\n",
      "Predicted Gesture: 10\n",
      "Predicted Gesture: 10\n",
      "Predicted Gesture: 10\n",
      "Predicted Gesture: 10\n",
      "Predicted Gesture: 10\n",
      "Predicted Gesture: 10\n",
      "Predicted Gesture: 10\n",
      "Predicted Gesture: 10\n",
      "Predicted Gesture: 10\n",
      "Predicted Gesture: 10\n",
      "Predicted Gesture: 10\n",
      "Predicted Gesture: 10\n",
      "Predicted Gesture: 10\n",
      "Predicted Gesture: 10\n",
      "Predicted Gesture: 10\n",
      "Predicted Gesture: 10\n",
      "Predicted Gesture: 10\n",
      "Predicted Gesture: 10\n",
      "Predicted Gesture: 10\n",
      "Predicted Gesture: 10\n",
      "Predicted Gesture: 10\n",
      "Predicted Gesture: 10\n",
      "Predicted Gesture: 10\n",
      "Predicted Gesture: 10\n",
      "Predicted Gesture: 10\n",
      "Predicted Gesture: 10\n",
      "Predicted Gesture: 10\n",
      "Predicted Gesture: 10\n",
      "Predicted Gesture: 10\n",
      "Predicted Gesture: 10\n",
      "Predicted Gesture: 10\n",
      "Predicted Gesture: 10\n",
      "Predicted Gesture: 10\n",
      "Predicted Gesture: 10\n",
      "Predicted Gesture: 10\n",
      "Predicted Gesture: 10\n",
      "Predicted Gesture: 10\n",
      "Predicted Gesture: 10\n",
      "Predicted Gesture: 10\n",
      "Predicted Gesture: 10\n",
      "Predicted Gesture: 10\n",
      "Predicted Gesture: 10\n",
      "Predicted Gesture: 10\n",
      "Predicted Gesture: 10\n",
      "Predicted Gesture: 10\n",
      "Predicted Gesture: 10\n",
      "Predicted Gesture: 10\n",
      "Predicted Gesture: 10\n",
      "Predicted Gesture: 10\n",
      "Predicted Gesture: 10\n",
      "Predicted Gesture: 10\n",
      "Predicted Gesture: 10\n",
      "Predicted Gesture: 10\n",
      "Predicted Gesture: 10\n",
      "Predicted Gesture: 10\n",
      "Predicted Gesture: 10\n",
      "Predicted Gesture: 10\n",
      "Predicted Gesture: 10\n",
      "Predicted Gesture: 10\n",
      "Predicted Gesture: 10\n",
      "Predicted Gesture: 5\n",
      "Predicted Gesture: 5\n",
      "Predicted Gesture: 5\n",
      "Predicted Gesture: 0\n",
      "Predicted Gesture: 5\n",
      "Predicted Gesture: 5\n",
      "Predicted Gesture: 5\n",
      "Predicted Gesture: 5\n",
      "Predicted Gesture: 5\n",
      "Predicted Gesture: 5\n",
      "Predicted Gesture: 5\n",
      "Predicted Gesture: 5\n",
      "Predicted Gesture: 5\n",
      "Predicted Gesture: 5\n",
      "Predicted Gesture: 5\n",
      "Predicted Gesture: 5\n",
      "Predicted Gesture: 0\n",
      "Predicted Gesture: 0\n",
      "Predicted Gesture: 5\n",
      "Predicted Gesture: 5\n",
      "No hands detected\n",
      "No hands detected\n",
      "No hands detected\n",
      "No hands detected\n",
      "No hands detected\n",
      "No hands detected\n",
      "No hands detected\n",
      "No hands detected\n",
      "No hands detected\n",
      "No hands detected\n",
      "No hands detected\n",
      "No hands detected\n",
      "No hands detected\n",
      "No hands detected\n",
      "No hands detected\n",
      "No hands detected\n",
      "No hands detected\n",
      "No hands detected\n",
      "No hands detected\n",
      "No hands detected\n",
      "No hands detected\n",
      "No hands detected\n",
      "No hands detected\n"
     ]
    }
   ],
   "source": [
    "import cv2\n",
    "import mediapipe as mp\n",
    "\n",
    "mp_hands = mp.solutions.hands\n",
    "hands = mp_hands.Hands(\n",
    "    static_image_mode = False,\n",
    "    max_num_hands = 1,\n",
    "    min_detection_confidence = 0.5,\n",
    "    min_tracking_confidence = 0.5\n",
    ")\n",
    "\n",
    "cap = cv2.VideoCapture(0)\n",
    "try:\n",
    "    while True:\n",
    "        success, frame = cap.read()\n",
    "        if not success:\n",
    "            print(\"Ignoring empty camera frame\")\n",
    "            continue\n",
    "        frame_rgb = cv2.cvtColor(frame, cv2.COLOR_BGR2RGB)\n",
    "\n",
    "        result = hands.process(frame_rgb)\n",
    "        \n",
    "        if result.multi_hand_landmarks:\n",
    "            for hand_landmarks in result.multi_hand_landmarks:\n",
    "                skeleton_data = np.array([[landmark.x, landmark.y, landmark.z] for landmark in hand_landmarks.landmark])\n",
    "                input_data = torch.Tensor(skeleton_data).to(device).view(1, -1)\n",
    "                predictions = model.network(input_data)\n",
    "                predicted_gesture = np.argmax(predictions.cpu().detach())\n",
    "                print(f\"Predicted Gesture: {predicted_gesture}\")\n",
    "        else:\n",
    "            print(\"No hands detected\")\n",
    "        cv2.imshow('Live Gesture Recognition', frame)\n",
    "        if cv2.waitKey(5) & 0xFF == 27:\n",
    "            break\n",
    "        \n",
    "finally:\n",
    "    cap.release()\n",
    "    cv2.destroyAllWindows()\n",
    "    hands.close()\n"
   ]
  }
 ],
 "metadata": {
  "kernelspec": {
   "display_name": "Python 3",
   "language": "python",
   "name": "python3"
  },
  "language_info": {
   "codemirror_mode": {
    "name": "ipython",
    "version": 3
   },
   "file_extension": ".py",
   "mimetype": "text/x-python",
   "name": "python",
   "nbconvert_exporter": "python",
   "pygments_lexer": "ipython3",
   "version": "3.11.4"
  }
 },
 "nbformat": 4,
 "nbformat_minor": 5
}
